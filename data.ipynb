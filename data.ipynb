{
 "cells": [
  {
   "cell_type": "code",
   "execution_count": 1,
   "metadata": {},
   "outputs": [],
   "source": [
    "import numpy as np\n",
    "import pandas as pd\n",
    "import pymongo\n",
    "import matplotlib.pyplot as plt\n",
    "import seaborn as sns\n",
    "from scipy import stats\n",
    "from config import config"
   ]
  },
  {
   "cell_type": "code",
   "execution_count": 2,
   "metadata": {},
   "outputs": [],
   "source": [
    "def read_mongo(collection, query={}):\n",
    "    \"\"\" Read from Mongo and Store into DataFrame \"\"\"\n",
    "\n",
    "    # Make a query to the specific DB and Collection\n",
    "    cursor = collection.find(query)\n",
    "    \n",
    "    elements = []\n",
    "    for doc in cursor:\n",
    "        del doc['_id']\n",
    "        elements.append(doc)\n",
    "        \n",
    "    # Expand the cursor and construct the DataFrame\n",
    "    df =  pd.DataFrame(elements)\n",
    "    \n",
    "    return df"
   ]
  },
  {
   "cell_type": "code",
   "execution_count": 3,
   "metadata": {},
   "outputs": [],
   "source": [
    "REPO = 'jabref/jabref'"
   ]
  },
  {
   "cell_type": "code",
   "execution_count": 4,
   "metadata": {},
   "outputs": [
    {
     "data": {
      "text/html": [
       "<div>\n",
       "<style scoped>\n",
       "    .dataframe tbody tr th:only-of-type {\n",
       "        vertical-align: middle;\n",
       "    }\n",
       "\n",
       "    .dataframe tbody tr th {\n",
       "        vertical-align: top;\n",
       "    }\n",
       "\n",
       "    .dataframe thead th {\n",
       "        text-align: right;\n",
       "    }\n",
       "</style>\n",
       "<table border=\"1\" class=\"dataframe\">\n",
       "  <thead>\n",
       "    <tr style=\"text-align: right;\">\n",
       "      <th></th>\n",
       "      <th>data</th>\n",
       "      <th>repositorio</th>\n",
       "      <th>issue</th>\n",
       "      <th>arquivos</th>\n",
       "      <th>topk</th>\n",
       "      <th>tecnica</th>\n",
       "      <th>compare</th>\n",
       "      <th>filtros</th>\n",
       "      <th>arquivos_resolvidos_de_verdade</th>\n",
       "      <th>mapk</th>\n",
       "      <th>min_sim</th>\n",
       "      <th>max_sim</th>\n",
       "      <th>mediana_sim</th>\n",
       "      <th>acertos</th>\n",
       "      <th>erros</th>\n",
       "      <th>arquivos_sugeridos</th>\n",
       "    </tr>\n",
       "  </thead>\n",
       "  <tbody>\n",
       "    <tr>\n",
       "      <th>0</th>\n",
       "      <td>2015-11-20T16:00:52Z</td>\n",
       "      <td>jabref/jabref</td>\n",
       "      <td>UTF-8 instead of UTF8 - 367</td>\n",
       "      <td>2</td>\n",
       "      <td>1</td>\n",
       "      <td>tfidf</td>\n",
       "      <td>title</td>\n",
       "      <td>{'lowercase': 1, 'removeLinks': 1, 'removeDigi...</td>\n",
       "      <td>[src/main/java/net/sf/jabref/importer/OpenData...</td>\n",
       "      <td>0.000000</td>\n",
       "      <td>0.0</td>\n",
       "      <td>0.000000</td>\n",
       "      <td>0.0</td>\n",
       "      <td>0</td>\n",
       "      <td>14</td>\n",
       "      <td>[CHANGELOG, src/main/java/net/sf/jabref/JabRef...</td>\n",
       "    </tr>\n",
       "    <tr>\n",
       "      <th>1</th>\n",
       "      <td>2015-12-15T10:39:22Z</td>\n",
       "      <td>jabref/jabref</td>\n",
       "      <td>Open pdf file when clicking pdf icon - 498</td>\n",
       "      <td>27</td>\n",
       "      <td>2</td>\n",
       "      <td>tfidf</td>\n",
       "      <td>title</td>\n",
       "      <td>{'lowercase': 1, 'removeLinks': 1, 'removeDigi...</td>\n",
       "      <td>[CHANGELOG.md, src/main/java/net/sf/jabref/Jab...</td>\n",
       "      <td>0.009259</td>\n",
       "      <td>0.0</td>\n",
       "      <td>0.000000</td>\n",
       "      <td>0.0</td>\n",
       "      <td>1</td>\n",
       "      <td>15</td>\n",
       "      <td>[src/main/java/net/sf/jabref/importer/OpenData...</td>\n",
       "    </tr>\n",
       "    <tr>\n",
       "      <th>2</th>\n",
       "      <td>2016-01-04T10:14:13Z</td>\n",
       "      <td>jabref/jabref</td>\n",
       "      <td>Export - error stream closed - 608</td>\n",
       "      <td>2</td>\n",
       "      <td>3</td>\n",
       "      <td>tfidf</td>\n",
       "      <td>title</td>\n",
       "      <td>{'lowercase': 1, 'removeLinks': 1, 'removeDigi...</td>\n",
       "      <td>[CHANGELOG.md, src/main/java/net/sf/jabref/exp...</td>\n",
       "      <td>0.166667</td>\n",
       "      <td>0.0</td>\n",
       "      <td>0.000000</td>\n",
       "      <td>0.0</td>\n",
       "      <td>1</td>\n",
       "      <td>41</td>\n",
       "      <td>[CHANGELOG.md, src/main/java/net/sf/jabref/Jab...</td>\n",
       "    </tr>\n",
       "    <tr>\n",
       "      <th>3</th>\n",
       "      <td>2016-01-19T10:35:24Z</td>\n",
       "      <td>jabref/jabref</td>\n",
       "      <td>Remove references to ResolvePDF in the default...</td>\n",
       "      <td>28</td>\n",
       "      <td>3</td>\n",
       "      <td>tfidf</td>\n",
       "      <td>title</td>\n",
       "      <td>{'lowercase': 1, 'removeLinks': 1, 'removeDigi...</td>\n",
       "      <td>[CHANGELOG.md, src/main/java/net/sf/jabref/exp...</td>\n",
       "      <td>0.035714</td>\n",
       "      <td>0.0</td>\n",
       "      <td>0.000000</td>\n",
       "      <td>0.0</td>\n",
       "      <td>2</td>\n",
       "      <td>28</td>\n",
       "      <td>[CHANGELOG.md, src/main/java/net/sf/jabref/exp...</td>\n",
       "    </tr>\n",
       "    <tr>\n",
       "      <th>4</th>\n",
       "      <td>2016-01-31T16:35:28Z</td>\n",
       "      <td>jabref/jabref</td>\n",
       "      <td>Error on New Database - 751</td>\n",
       "      <td>1</td>\n",
       "      <td>3</td>\n",
       "      <td>tfidf</td>\n",
       "      <td>title</td>\n",
       "      <td>{'lowercase': 1, 'removeLinks': 1, 'removeDigi...</td>\n",
       "      <td>[src/main/java/net/sf/jabref/specialfields/Spe...</td>\n",
       "      <td>0.000000</td>\n",
       "      <td>0.0</td>\n",
       "      <td>0.196083</td>\n",
       "      <td>0.0</td>\n",
       "      <td>0</td>\n",
       "      <td>54</td>\n",
       "      <td>[CHANGELOG.md, src/main/java/net/sf/jabref/exp...</td>\n",
       "    </tr>\n",
       "  </tbody>\n",
       "</table>\n",
       "</div>"
      ],
      "text/plain": [
       "                   data    repositorio  \\\n",
       "0  2015-11-20T16:00:52Z  jabref/jabref   \n",
       "1  2015-12-15T10:39:22Z  jabref/jabref   \n",
       "2  2016-01-04T10:14:13Z  jabref/jabref   \n",
       "3  2016-01-19T10:35:24Z  jabref/jabref   \n",
       "4  2016-01-31T16:35:28Z  jabref/jabref   \n",
       "\n",
       "                                               issue  arquivos  topk tecnica  \\\n",
       "0                        UTF-8 instead of UTF8 - 367         2     1   tfidf   \n",
       "1         Open pdf file when clicking pdf icon - 498        27     2   tfidf   \n",
       "2                 Export - error stream closed - 608         2     3   tfidf   \n",
       "3  Remove references to ResolvePDF in the default...        28     3   tfidf   \n",
       "4                        Error on New Database - 751         1     3   tfidf   \n",
       "\n",
       "  compare                                            filtros  \\\n",
       "0   title  {'lowercase': 1, 'removeLinks': 1, 'removeDigi...   \n",
       "1   title  {'lowercase': 1, 'removeLinks': 1, 'removeDigi...   \n",
       "2   title  {'lowercase': 1, 'removeLinks': 1, 'removeDigi...   \n",
       "3   title  {'lowercase': 1, 'removeLinks': 1, 'removeDigi...   \n",
       "4   title  {'lowercase': 1, 'removeLinks': 1, 'removeDigi...   \n",
       "\n",
       "                      arquivos_resolvidos_de_verdade      mapk  min_sim  \\\n",
       "0  [src/main/java/net/sf/jabref/importer/OpenData...  0.000000      0.0   \n",
       "1  [CHANGELOG.md, src/main/java/net/sf/jabref/Jab...  0.009259      0.0   \n",
       "2  [CHANGELOG.md, src/main/java/net/sf/jabref/exp...  0.166667      0.0   \n",
       "3  [CHANGELOG.md, src/main/java/net/sf/jabref/exp...  0.035714      0.0   \n",
       "4  [src/main/java/net/sf/jabref/specialfields/Spe...  0.000000      0.0   \n",
       "\n",
       "    max_sim  mediana_sim  acertos  erros  \\\n",
       "0  0.000000          0.0        0     14   \n",
       "1  0.000000          0.0        1     15   \n",
       "2  0.000000          0.0        1     41   \n",
       "3  0.000000          0.0        2     28   \n",
       "4  0.196083          0.0        0     54   \n",
       "\n",
       "                                  arquivos_sugeridos  \n",
       "0  [CHANGELOG, src/main/java/net/sf/jabref/JabRef...  \n",
       "1  [src/main/java/net/sf/jabref/importer/OpenData...  \n",
       "2  [CHANGELOG.md, src/main/java/net/sf/jabref/Jab...  \n",
       "3  [CHANGELOG.md, src/main/java/net/sf/jabref/exp...  \n",
       "4  [CHANGELOG.md, src/main/java/net/sf/jabref/exp...  "
      ]
     },
     "execution_count": 4,
     "metadata": {},
     "output_type": "execute_result"
    }
   ],
   "source": [
    "mongoClient = pymongo.MongoClient(config['DATABASE']['CONNECTION_STRING'])\n",
    "db = mongoClient[config['DATABASE']['NAME']]\n",
    "collection = db[f'{REPO}_results']\n",
    "df = read_mongo(collection, {})\n",
    "df.head()"
   ]
  },
  {
   "cell_type": "code",
   "execution_count": 5,
   "metadata": {},
   "outputs": [],
   "source": [
    "tfidf = df[(df['tecnica'] == 'tfidf') & ((df['topk'] == 3) | (df['topk'] == 5))]\n",
    "sbert = df[(df['tecnica'] == 'sbert') & ((df['topk'] == 3) | (df['topk'] == 5))]\n",
    "word2vec = df[(df['tecnica'] == 'word2vec') & ((df['topk'] == 3) | (df['topk'] == 5))]"
   ]
  },
  {
   "cell_type": "code",
   "execution_count": 11,
   "metadata": {},
   "outputs": [
    {
     "data": {
      "text/plain": [
       "<AxesSubplot: xlabel='topk', ylabel='mapk'>"
      ]
     },
     "execution_count": 11,
     "metadata": {},
     "output_type": "execute_result"
    },
    {
     "data": {
      "image/png": "[encoded data removed]",
      "text/plain": [
       "<Figure size 640x480 with 1 Axes>"
      ]
     },
     "metadata": {},
     "output_type": "display_data"
    }
   ],
   "source": [
    "sns.boxplot(x=sbert[\"topk\"], y=sbert[\"mapk\"])"
   ]
  },
  {
   "cell_type": "code",
   "execution_count": 12,
   "metadata": {},
   "outputs": [
    {
     "data": {
      "text/plain": [
       "<AxesSubplot: xlabel='topk', ylabel='mapk'>"
      ]
     },
     "execution_count": 12,
     "metadata": {},
     "output_type": "execute_result"
    },
    {
     "data": {
      "image/png": "[encoded data removed]",
      "text/plain": [
       "<Figure size 640x480 with 1 Axes>"
      ]
     },
     "metadata": {},
     "output_type": "display_data"
    }
   ],
   "source": [
    "sns.boxplot(x=word2vec[\"topk\"], y=word2vec[\"mapk\"])"
   ]
  },
  {
   "cell_type": "code",
   "execution_count": 13,
   "metadata": {},
   "outputs": [
    {
     "data": {
      "text/plain": [
       "<AxesSubplot: xlabel='topk', ylabel='mapk'>"
      ]
     },
     "execution_count": 13,
     "metadata": {},
     "output_type": "execute_result"
    },
    {
     "data": {
      "image/png": "[encoded data removed]",
      "text/plain": [
       "<Figure size 640x480 with 1 Axes>"
      ]
     },
     "metadata": {},
     "output_type": "display_data"
    }
   ],
   "source": [
    "sns.boxplot(x=tfidf[\"topk\"], y=tfidf[\"mapk\"])"
   ]
  },
  {
   "cell_type": "code",
   "execution_count": 7,
   "metadata": {},
   "outputs": [
    {
     "data": {
      "text/plain": [
       "KruskalResult(statistic=0.7278701663471531, pvalue=0.39357442278250576)"
      ]
     },
     "execution_count": 7,
     "metadata": {},
     "output_type": "execute_result"
    }
   ],
   "source": [
    "stats.kruskal(sbert[sbert['topk'] == 3]['mapk'], sbert[sbert['topk'] == 5]['mapk'])"
   ]
  },
  {
   "cell_type": "code",
   "execution_count": 8,
   "metadata": {},
   "outputs": [
    {
     "data": {
      "text/plain": [
       "KruskalResult(statistic=0.46886606589016544, pvalue=0.4935092942613706)"
      ]
     },
     "execution_count": 8,
     "metadata": {},
     "output_type": "execute_result"
    }
   ],
   "source": [
    "stats.kruskal(word2vec[word2vec['topk'] == 3]['mapk'], word2vec[word2vec['topk'] == 5]['mapk'])"
   ]
  },
  {
   "cell_type": "code",
   "execution_count": 10,
   "metadata": {},
   "outputs": [
    {
     "data": {
      "text/plain": [
       "KruskalResult(statistic=0.0835390850328004, pvalue=0.77255743504487)"
      ]
     },
     "execution_count": 10,
     "metadata": {},
     "output_type": "execute_result"
    }
   ],
   "source": [
    "stats.kruskal(tfidf[tfidf['topk'] == 3]['mapk'], tfidf[tfidf['topk'] == 5]['mapk'])"
   ]
  }
 ],
 "metadata": {
  "kernelspec": {
   "display_name": "Python 3",
   "language": "python",
   "name": "python3"
  },
  "language_info": {
   "codemirror_mode": {
    "name": "ipython",
    "version": 3
   },
   "file_extension": ".py",
   "mimetype": "text/x-python",
   "name": "python",
   "nbconvert_exporter": "python",
   "pygments_lexer": "ipython3",
   "version": "3.10.8"
  },
  "orig_nbformat": 4
 },
 "nbformat": 4,
 "nbformat_minor": 2
}
