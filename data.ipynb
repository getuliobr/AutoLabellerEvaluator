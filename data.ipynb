{
 "cells": [
  {
   "cell_type": "code",
   "execution_count": 18,
   "metadata": {},
   "outputs": [],
   "source": [
    "import numpy as np\n",
    "import pandas as pd\n",
    "import pymongo\n",
    "import matplotlib.pyplot as plt\n",
    "import seaborn as sns\n",
    "from scipy import stats\n",
    "from config import config"
   ]
  },
  {
   "cell_type": "code",
   "execution_count": 19,
   "metadata": {},
   "outputs": [],
   "source": [
    "def read_mongo(collection, query={}):\n",
    "    \"\"\" Read from Mongo and Store into DataFrame \"\"\"\n",
    "\n",
    "    # Make a query to the specific DB and Collection\n",
    "    cursor = collection.find(query)\n",
    "    \n",
    "    elements = []\n",
    "    for doc in cursor:\n",
    "        del doc['_id']\n",
    "        elements.append(doc)\n",
    "        \n",
    "    # Expand the cursor and construct the DataFrame\n",
    "    df =  pd.DataFrame(elements)\n",
    "    \n",
    "    return df"
   ]
  },
  {
   "cell_type": "code",
   "execution_count": 3,
   "metadata": {},
   "outputs": [],
   "source": [
    "REPO = 'jabref/jabref'"
   ]
  },
  {
   "cell_type": "code",
   "execution_count": 20,
   "metadata": {},
   "outputs": [
    {
     "data": {
      "text/html": [
       "<div>\n",
       "<style scoped>\n",
       "    .dataframe tbody tr th:only-of-type {\n",
       "        vertical-align: middle;\n",
       "    }\n",
       "\n",
       "    .dataframe tbody tr th {\n",
       "        vertical-align: top;\n",
       "    }\n",
       "\n",
       "    .dataframe thead th {\n",
       "        text-align: right;\n",
       "    }\n",
       "</style>\n",
       "<table border=\"1\" class=\"dataframe\">\n",
       "  <thead>\n",
       "    <tr style=\"text-align: right;\">\n",
       "      <th></th>\n",
       "      <th>data</th>\n",
       "      <th>repositorio</th>\n",
       "      <th>issue</th>\n",
       "      <th>arquivos</th>\n",
       "      <th>topk</th>\n",
       "      <th>tecnica</th>\n",
       "      <th>compare</th>\n",
       "      <th>filtros</th>\n",
       "      <th>arquivos_resolvidos_de_verdade</th>\n",
       "      <th>mapk</th>\n",
       "      <th>min_sim</th>\n",
       "      <th>max_sim</th>\n",
       "      <th>mediana_sim</th>\n",
       "      <th>acertos</th>\n",
       "      <th>erros</th>\n",
       "      <th>arquivos_sugeridos</th>\n",
       "      <th>number</th>\n",
       "    </tr>\n",
       "  </thead>\n",
       "  <tbody>\n",
       "    <tr>\n",
       "      <th>0</th>\n",
       "      <td>2018-04-03T12:30:08Z</td>\n",
       "      <td>jabref/jabref</td>\n",
       "      <td>license of external libraries not exact enough</td>\n",
       "      <td>1</td>\n",
       "      <td>3</td>\n",
       "      <td>tfidf</td>\n",
       "      <td>title</td>\n",
       "      <td>{'lowercase': 1, 'removeLinks': 1, 'removeDigi...</td>\n",
       "      <td>[external-libraries.txt]</td>\n",
       "      <td>0.000000</td>\n",
       "      <td>0.0</td>\n",
       "      <td>0.145595</td>\n",
       "      <td>0.000000</td>\n",
       "      <td>0</td>\n",
       "      <td>4</td>\n",
       "      <td>[CHANGELOG.md, src/main/java/org/jabref/gui/co...</td>\n",
       "      <td>3897</td>\n",
       "    </tr>\n",
       "    <tr>\n",
       "      <th>1</th>\n",
       "      <td>2018-04-16T14:45:03Z</td>\n",
       "      <td>jabref/jabref</td>\n",
       "      <td>IEEE transitions to HTTPS</td>\n",
       "      <td>5</td>\n",
       "      <td>3</td>\n",
       "      <td>tfidf</td>\n",
       "      <td>title</td>\n",
       "      <td>{'lowercase': 1, 'removeLinks': 1, 'removeDigi...</td>\n",
       "      <td>[src/main/java/org/jabref/gui/importer/fetcher...</td>\n",
       "      <td>0.000000</td>\n",
       "      <td>0.0</td>\n",
       "      <td>0.000000</td>\n",
       "      <td>0.000000</td>\n",
       "      <td>0</td>\n",
       "      <td>4</td>\n",
       "      <td>[external-libraries.txt, CHANGELOG.md, src/mai...</td>\n",
       "      <td>3930</td>\n",
       "    </tr>\n",
       "    <tr>\n",
       "      <th>2</th>\n",
       "      <td>2018-04-29T12:18:50Z</td>\n",
       "      <td>jabref/jabref</td>\n",
       "      <td>Add RFC Standard Fetcher</td>\n",
       "      <td>5</td>\n",
       "      <td>3</td>\n",
       "      <td>tfidf</td>\n",
       "      <td>title</td>\n",
       "      <td>{'lowercase': 1, 'removeLinks': 1, 'removeDigi...</td>\n",
       "      <td>[CHANGELOG.md, src/main/java/org/jabref/logic/...</td>\n",
       "      <td>0.133333</td>\n",
       "      <td>0.0</td>\n",
       "      <td>0.218712</td>\n",
       "      <td>0.178891</td>\n",
       "      <td>1</td>\n",
       "      <td>18</td>\n",
       "      <td>[CHANGELOG.md, src/main/java/net/sf/jabref/gui...</td>\n",
       "      <td>3971</td>\n",
       "    </tr>\n",
       "    <tr>\n",
       "      <th>3</th>\n",
       "      <td>2018-06-07T08:01:32Z</td>\n",
       "      <td>jabref/jabref</td>\n",
       "      <td>New Entry does no longer focus on first field ...</td>\n",
       "      <td>3</td>\n",
       "      <td>3</td>\n",
       "      <td>tfidf</td>\n",
       "      <td>title</td>\n",
       "      <td>{'lowercase': 1, 'removeLinks': 1, 'removeDigi...</td>\n",
       "      <td>[CHANGELOG.md, src/main/java/org/jabref/gui/en...</td>\n",
       "      <td>0.000000</td>\n",
       "      <td>0.0</td>\n",
       "      <td>0.208895</td>\n",
       "      <td>0.203644</td>\n",
       "      <td>0</td>\n",
       "      <td>5</td>\n",
       "      <td>[CHANGELOG, src/main/java/net/sf/jabref/Previe...</td>\n",
       "      <td>4024</td>\n",
       "    </tr>\n",
       "    <tr>\n",
       "      <th>4</th>\n",
       "      <td>2018-06-13T15:51:01Z</td>\n",
       "      <td>jabref/jabref</td>\n",
       "      <td>Groups are focused on right-click</td>\n",
       "      <td>1</td>\n",
       "      <td>3</td>\n",
       "      <td>tfidf</td>\n",
       "      <td>title</td>\n",
       "      <td>{'lowercase': 1, 'removeLinks': 1, 'removeDigi...</td>\n",
       "      <td>[src/main/java/org/jabref/gui/groups/GroupTree...</td>\n",
       "      <td>0.000000</td>\n",
       "      <td>0.0</td>\n",
       "      <td>0.224294</td>\n",
       "      <td>0.146922</td>\n",
       "      <td>0</td>\n",
       "      <td>4</td>\n",
       "      <td>[CHANGELOG.md, src/main/java/org/jabref/gui/Ba...</td>\n",
       "      <td>4025</td>\n",
       "    </tr>\n",
       "  </tbody>\n",
       "</table>\n",
       "</div>"
      ],
      "text/plain": [
       "                   data    repositorio  \\\n",
       "0  2018-04-03T12:30:08Z  jabref/jabref   \n",
       "1  2018-04-16T14:45:03Z  jabref/jabref   \n",
       "2  2018-04-29T12:18:50Z  jabref/jabref   \n",
       "3  2018-06-07T08:01:32Z  jabref/jabref   \n",
       "4  2018-06-13T15:51:01Z  jabref/jabref   \n",
       "\n",
       "                                               issue  arquivos  topk tecnica  \\\n",
       "0     license of external libraries not exact enough         1     3   tfidf   \n",
       "1                          IEEE transitions to HTTPS         5     3   tfidf   \n",
       "2                           Add RFC Standard Fetcher         5     3   tfidf   \n",
       "3  New Entry does no longer focus on first field ...         3     3   tfidf   \n",
       "4                  Groups are focused on right-click         1     3   tfidf   \n",
       "\n",
       "  compare                                            filtros  \\\n",
       "0   title  {'lowercase': 1, 'removeLinks': 1, 'removeDigi...   \n",
       "1   title  {'lowercase': 1, 'removeLinks': 1, 'removeDigi...   \n",
       "2   title  {'lowercase': 1, 'removeLinks': 1, 'removeDigi...   \n",
       "3   title  {'lowercase': 1, 'removeLinks': 1, 'removeDigi...   \n",
       "4   title  {'lowercase': 1, 'removeLinks': 1, 'removeDigi...   \n",
       "\n",
       "                      arquivos_resolvidos_de_verdade      mapk  min_sim  \\\n",
       "0                           [external-libraries.txt]  0.000000      0.0   \n",
       "1  [src/main/java/org/jabref/gui/importer/fetcher...  0.000000      0.0   \n",
       "2  [CHANGELOG.md, src/main/java/org/jabref/logic/...  0.133333      0.0   \n",
       "3  [CHANGELOG.md, src/main/java/org/jabref/gui/en...  0.000000      0.0   \n",
       "4  [src/main/java/org/jabref/gui/groups/GroupTree...  0.000000      0.0   \n",
       "\n",
       "    max_sim  mediana_sim  acertos  erros  \\\n",
       "0  0.145595     0.000000        0      4   \n",
       "1  0.000000     0.000000        0      4   \n",
       "2  0.218712     0.178891        1     18   \n",
       "3  0.208895     0.203644        0      5   \n",
       "4  0.224294     0.146922        0      4   \n",
       "\n",
       "                                  arquivos_sugeridos  number  \n",
       "0  [CHANGELOG.md, src/main/java/org/jabref/gui/co...    3897  \n",
       "1  [external-libraries.txt, CHANGELOG.md, src/mai...    3930  \n",
       "2  [CHANGELOG.md, src/main/java/net/sf/jabref/gui...    3971  \n",
       "3  [CHANGELOG, src/main/java/net/sf/jabref/Previe...    4024  \n",
       "4  [CHANGELOG.md, src/main/java/org/jabref/gui/Ba...    4025  "
      ]
     },
     "execution_count": 20,
     "metadata": {},
     "output_type": "execute_result"
    }
   ],
   "source": [
    "mongoClient = pymongo.MongoClient(config['DATABASE']['CONNECTION_STRING'])\n",
    "db = mongoClient[config['DATABASE']['NAME']]\n",
    "collection = db[f'{REPO}_results']\n",
    "\n",
    "lastIssue = collection.find().sort('number', -1).limit(1)[0]['number']\n",
    "\n",
    "df = read_mongo(collection, {'number': {'$gte': lastIssue - 6000}})\n",
    "df.head()"
   ]
  },
  {
   "cell_type": "code",
   "execution_count": 21,
   "metadata": {},
   "outputs": [],
   "source": [
    "tfidf = df[(df['tecnica'] == 'tfidf') & ((df['topk'] == 3) | (df['topk'] == 5))]\n",
    "sbert = df[(df['tecnica'] == 'sbert') & ((df['topk'] == 3) | (df['topk'] == 5))]\n",
    "word2vec = df[(df['tecnica'] == 'word2vec') & ((df['topk'] == 3) | (df['topk'] == 5))]"
   ]
  },
  {
   "cell_type": "code",
   "execution_count": 22,
   "metadata": {},
   "outputs": [
    {
     "data": {
      "text/plain": [
       "<AxesSubplot: xlabel='topk', ylabel='mapk'>"
      ]
     },
     "execution_count": 22,
     "metadata": {},
     "output_type": "execute_result"
    },
    {
     "data": {
      "image/png": "[encoded data removed]",
      "text/plain": [
       "<Figure size 640x480 with 1 Axes>"
      ]
     },
     "metadata": {},
     "output_type": "display_data"
    }
   ],
   "source": [
    "sns.boxplot(x=sbert[\"topk\"], y=sbert[\"mapk\"])"
   ]
  },
  {
   "cell_type": "code",
   "execution_count": 23,
   "metadata": {},
   "outputs": [
    {
     "data": {
      "text/plain": [
       "<AxesSubplot: xlabel='topk', ylabel='mapk'>"
      ]
     },
     "execution_count": 23,
     "metadata": {},
     "output_type": "execute_result"
    },
    {
     "data": {
      "image/png": "[encoded data removed]",
      "text/plain": [
       "<Figure size 640x480 with 1 Axes>"
      ]
     },
     "metadata": {},
     "output_type": "display_data"
    }
   ],
   "source": [
    "sns.boxplot(x=word2vec[\"topk\"], y=word2vec[\"mapk\"])"
   ]
  },
  {
   "cell_type": "code",
   "execution_count": 24,
   "metadata": {},
   "outputs": [
    {
     "data": {
      "text/plain": [
       "<AxesSubplot: xlabel='topk', ylabel='mapk'>"
      ]
     },
     "execution_count": 24,
     "metadata": {},
     "output_type": "execute_result"
    },
    {
     "data": {
      "image/png": "[encoded data removed]",
      "text/plain": [
       "<Figure size 640x480 with 1 Axes>"
      ]
     },
     "metadata": {},
     "output_type": "display_data"
    }
   ],
   "source": [
    "sns.boxplot(x=tfidf[\"topk\"], y=tfidf[\"mapk\"])"
   ]
  },
  {
   "cell_type": "code",
   "execution_count": 25,
   "metadata": {},
   "outputs": [
    {
     "data": {
      "text/plain": [
       "KruskalResult(statistic=0.5279477988258312, pvalue=0.46747092753655006)"
      ]
     },
     "execution_count": 25,
     "metadata": {},
     "output_type": "execute_result"
    }
   ],
   "source": [
    "stats.kruskal(sbert[sbert['topk'] == 3]['mapk'], sbert[sbert['topk'] == 5]['mapk'])"
   ]
  },
  {
   "cell_type": "code",
   "execution_count": 26,
   "metadata": {},
   "outputs": [
    {
     "data": {
      "text/plain": [
       "KruskalResult(statistic=0.4245323827407403, pvalue=0.5146840937865627)"
      ]
     },
     "execution_count": 26,
     "metadata": {},
     "output_type": "execute_result"
    }
   ],
   "source": [
    "stats.kruskal(word2vec[word2vec['topk'] == 3]['mapk'], word2vec[word2vec['topk'] == 5]['mapk'])"
   ]
  },
  {
   "cell_type": "code",
   "execution_count": 27,
   "metadata": {},
   "outputs": [
    {
     "data": {
      "text/plain": [
       "KruskalResult(statistic=0.13759479024461793, pvalue=0.7106839215567189)"
      ]
     },
     "execution_count": 27,
     "metadata": {},
     "output_type": "execute_result"
    }
   ],
   "source": [
    "stats.kruskal(tfidf[tfidf['topk'] == 3]['mapk'], tfidf[tfidf['topk'] == 5]['mapk'])"
   ]
  }
 ],
 "metadata": {
  "kernelspec": {
   "display_name": "Python 3",
   "language": "python",
   "name": "python3"
  },
  "language_info": {
   "codemirror_mode": {
    "name": "ipython",
    "version": 3
   },
   "file_extension": ".py",
   "mimetype": "text/x-python",
   "name": "python",
   "nbconvert_exporter": "python",
   "pygments_lexer": "ipython3",
   "version": "3.10.8"
  },
  "orig_nbformat": 4
 },
 "nbformat": 4,
 "nbformat_minor": 2
}
